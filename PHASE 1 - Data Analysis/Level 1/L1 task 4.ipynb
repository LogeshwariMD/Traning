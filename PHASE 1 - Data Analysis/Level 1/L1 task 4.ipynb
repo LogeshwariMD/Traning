{
 "cells": [
  {
   "cell_type": "markdown",
   "id": "e21de52a-93a3-4ecb-9dc9-f52905e64aec",
   "metadata": {},
   "source": [
    " Task 4: Dynamic Data Structure"
   ]
  },
  {
   "cell_type": "code",
   "execution_count": 3,
   "id": "abe6422c-0f72-4052-b09a-2315ca29ff91",
   "metadata": {},
   "outputs": [],
   "source": [
    "dic ={}\n"
   ]
  },
  {
   "cell_type": "code",
   "execution_count": 2,
   "id": "6a7381ee-61ce-4e91-b40e-79c0195fd9dc",
   "metadata": {},
   "outputs": [
    {
     "data": {
      "text/plain": [
       "dict"
      ]
     },
     "execution_count": 2,
     "metadata": {},
     "output_type": "execute_result"
    }
   ],
   "source": [
    "type(dic)"
   ]
  },
  {
   "cell_type": "code",
   "execution_count": 4,
   "id": "dded0360-665e-4e86-90c8-4402466ce478",
   "metadata": {},
   "outputs": [
    {
     "name": "stdin",
     "output_type": "stream",
     "text": [
      "Enter key 1 (string):  aa\n",
      "Enter value 1 (integer):  5\n",
      "Enter key 2 (string):  ll\n",
      "Enter value 2 (integer):  4\n",
      "Enter key 3 (string):  tr\n",
      "Enter value 3 (integer):  6\n"
     ]
    }
   ],
   "source": [
    "for i in range(3):\n",
    "     key = input(f\"Enter key {i + 1} (string): \")\n",
    "     value = int(input(f\"Enter value {i + 1} (integer): \"))\n",
    "     dic[key] = value"
   ]
  },
  {
   "cell_type": "code",
   "execution_count": 5,
   "id": "f4a589a7-d0df-4060-b573-75de5947c7d8",
   "metadata": {},
   "outputs": [
    {
     "name": "stdout",
     "output_type": "stream",
     "text": [
      "complete dictionary: {'aa': 5, 'll': 4, 'tr': 6}\n"
     ]
    }
   ],
   "source": [
    "print('complete dictionary:',dic)"
   ]
  },
  {
   "cell_type": "code",
   "execution_count": null,
   "id": "70ecddc7-f629-4f4c-bee3-3f936da212c6",
   "metadata": {},
   "outputs": [],
   "source": []
  }
 ],
 "metadata": {
  "kernelspec": {
   "display_name": "Python 3 (ipykernel)",
   "language": "python",
   "name": "python3"
  },
  "language_info": {
   "codemirror_mode": {
    "name": "ipython",
    "version": 3
   },
   "file_extension": ".py",
   "mimetype": "text/x-python",
   "name": "python",
   "nbconvert_exporter": "python",
   "pygments_lexer": "ipython3",
   "version": "3.12.4"
  }
 },
 "nbformat": 4,
 "nbformat_minor": 5
}

{
 "cells": [
  {
   "cell_type": "markdown",
   "id": "559f3179-bace-41e5-8590-b6da1a7965d4",
   "metadata": {},
   "source": [
    " Task 2: NumPy Array Stats"
   ]
  },
  {
   "cell_type": "code",
   "execution_count": 6,
   "id": "8dbb4ca0-e7b7-441b-b492-7a4706c85468",
   "metadata": {},
   "outputs": [],
   "source": [
    "import numpy as np\n",
    "\n"
   ]
  },
  {
   "cell_type": "code",
   "execution_count": 3,
   "id": "001b8304-4f2d-4a0f-9a7e-84e9f39c7778",
   "metadata": {},
   "outputs": [
    {
     "data": {
      "text/plain": [
       "array([ 1,  2,  3,  4,  5,  6,  7,  8,  9, 10])"
      ]
     },
     "execution_count": 3,
     "metadata": {},
     "output_type": "execute_result"
    }
   ],
   "source": [
    "arr = np.arange(1, 11)\n",
    "arr"
   ]
  },
  {
   "cell_type": "code",
   "execution_count": 4,
   "id": "7ea099c8-d6b9-47a0-9798-21a519ea769e",
   "metadata": {},
   "outputs": [],
   "source": [
    "mean_value = np.mean(arr)\n",
    "max_value = np.max(arr)\n",
    "min_value = np.min(arr)"
   ]
  },
  {
   "cell_type": "code",
   "execution_count": 5,
   "id": "718e78f9-ee4a-4005-9fb1-a29d1f674448",
   "metadata": {},
   "outputs": [
    {
     "name": "stdout",
     "output_type": "stream",
     "text": [
      "Mean: 5.5, Max: 10, Min: 1\n"
     ]
    }
   ],
   "source": [
    "print(f\"Mean: {mean_value}, Max: {max_value}, Min: {min_value}\")\n"
   ]
  },
  {
   "cell_type": "code",
   "execution_count": null,
   "id": "f4ed2a46-90f3-4d1b-9a18-00273c75cb3d",
   "metadata": {},
   "outputs": [],
   "source": []
  }
 ],
 "metadata": {
  "kernelspec": {
   "display_name": "Python 3 (ipykernel)",
   "language": "python",
   "name": "python3"
  },
  "language_info": {
   "codemirror_mode": {
    "name": "ipython",
    "version": 3
   },
   "file_extension": ".py",
   "mimetype": "text/x-python",
   "name": "python",
   "nbconvert_exporter": "python",
   "pygments_lexer": "ipython3",
   "version": "3.12.4"
  }
 },
 "nbformat": 4,
 "nbformat_minor": 5
}

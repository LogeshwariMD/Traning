{
 "cells": [
  {
   "cell_type": "markdown",
   "id": "c8bbfb3e-843b-4aa1-b8e5-37e1553ac6d0",
   "metadata": {},
   "source": [
    " Task 5: NumPy Matrix Operations"
   ]
  },
  {
   "cell_type": "code",
   "execution_count": 11,
   "id": "8f53adc7-c522-40f1-a7cd-42426a92cdff",
   "metadata": {},
   "outputs": [],
   "source": [
    "import numpy as np"
   ]
  },
  {
   "cell_type": "code",
   "execution_count": 12,
   "id": "f69fee37-52e0-40b6-942e-ff62c197f5da",
   "metadata": {},
   "outputs": [],
   "source": [
    "mat1 = np.array([[67, 23], [60, 25]])\n",
    "mat2 = np.array([[75, 96], [17, 68]])"
   ]
  },
  {
   "cell_type": "code",
   "execution_count": 13,
   "id": "dfb5ab4e-9c5a-4aac-9587-5456edfbfa1b",
   "metadata": {},
   "outputs": [],
   "source": [
    "result_mat = mat1 + mat2\n",
    "\n",
    "\n"
   ]
  },
  {
   "cell_type": "code",
   "execution_count": 14,
   "id": "79926e01-282c-4dd8-a7e7-c9ddeb71f479",
   "metadata": {},
   "outputs": [
    {
     "name": "stdout",
     "output_type": "stream",
     "text": [
      "Resulting Matrix:\n",
      "[[142 119]\n",
      " [ 77  93]]\n"
     ]
    }
   ],
   "source": [
    "print(\"Resulting Matrix:\" )\n",
    "print(result_mat)\n"
   ]
  },
  {
   "cell_type": "code",
   "execution_count": null,
   "id": "ac30b6b9-52a0-4b20-a339-f390a5b5f8d7",
   "metadata": {},
   "outputs": [],
   "source": []
  },
  {
   "cell_type": "code",
   "execution_count": null,
   "id": "4a65237a-f015-4208-ae2f-f92dfa3bcfd0",
   "metadata": {},
   "outputs": [],
   "source": []
  }
 ],
 "metadata": {
  "kernelspec": {
   "display_name": "Python 3 (ipykernel)",
   "language": "python",
   "name": "python3"
  },
  "language_info": {
   "codemirror_mode": {
    "name": "ipython",
    "version": 3
   },
   "file_extension": ".py",
   "mimetype": "text/x-python",
   "name": "python",
   "nbconvert_exporter": "python",
   "pygments_lexer": "ipython3",
   "version": "3.12.4"
  }
 },
 "nbformat": 4,
 "nbformat_minor": 5
}

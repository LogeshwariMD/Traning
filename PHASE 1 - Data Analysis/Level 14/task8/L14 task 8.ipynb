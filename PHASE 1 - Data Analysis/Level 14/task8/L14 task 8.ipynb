{
 "cells": [
  {
   "cell_type": "code",
   "execution_count": 1,
   "id": "3829da6d-83a7-4118-ac2e-84ea912a0caf",
   "metadata": {},
   "outputs": [
    {
     "name": "stdout",
     "output_type": "stream",
     "text": [
      "Defaulting to user installation because normal site-packages is not writeable\n",
      "Requirement already satisfied: fastapi in c:\\users\\loges\\appdata\\roaming\\python\\python312\\site-packages (0.115.11)\n",
      "Requirement already satisfied: uvicorn in c:\\users\\loges\\appdata\\roaming\\python\\python312\\site-packages (0.34.0)\n",
      "Requirement already satisfied: nest_asyncio in c:\\programdata\\anaconda3\\lib\\site-packages (1.6.0)\n",
      "Requirement already satisfied: starlette<0.47.0,>=0.40.0 in c:\\users\\loges\\appdata\\roaming\\python\\python312\\site-packages (from fastapi) (0.46.1)\n",
      "Requirement already satisfied: pydantic!=1.8,!=1.8.1,!=2.0.0,!=2.0.1,!=2.1.0,<3.0.0,>=1.7.4 in c:\\users\\loges\\appdata\\roaming\\python\\python312\\site-packages (from fastapi) (2.10.6)\n",
      "Requirement already satisfied: typing-extensions>=4.8.0 in c:\\users\\loges\\appdata\\roaming\\python\\python312\\site-packages (from fastapi) (4.12.2)\n",
      "Requirement already satisfied: click>=7.0 in c:\\programdata\\anaconda3\\lib\\site-packages (from uvicorn) (8.1.7)\n",
      "Requirement already satisfied: h11>=0.8 in c:\\users\\loges\\appdata\\roaming\\python\\python312\\site-packages (from uvicorn) (0.14.0)\n",
      "Requirement already satisfied: colorama in c:\\programdata\\anaconda3\\lib\\site-packages (from click>=7.0->uvicorn) (0.4.6)\n",
      "Requirement already satisfied: annotated-types>=0.6.0 in c:\\users\\loges\\appdata\\roaming\\python\\python312\\site-packages (from pydantic!=1.8,!=1.8.1,!=2.0.0,!=2.0.1,!=2.1.0,<3.0.0,>=1.7.4->fastapi) (0.7.0)\n",
      "Requirement already satisfied: pydantic-core==2.27.2 in c:\\users\\loges\\appdata\\roaming\\python\\python312\\site-packages (from pydantic!=1.8,!=1.8.1,!=2.0.0,!=2.0.1,!=2.1.0,<3.0.0,>=1.7.4->fastapi) (2.27.2)\n",
      "Requirement already satisfied: anyio<5,>=3.6.2 in c:\\users\\loges\\appdata\\roaming\\python\\python312\\site-packages (from starlette<0.47.0,>=0.40.0->fastapi) (4.8.0)\n",
      "Requirement already satisfied: idna>=2.8 in c:\\programdata\\anaconda3\\lib\\site-packages (from anyio<5,>=3.6.2->starlette<0.47.0,>=0.40.0->fastapi) (3.7)\n",
      "Requirement already satisfied: sniffio>=1.1 in c:\\users\\loges\\appdata\\roaming\\python\\python312\\site-packages (from anyio<5,>=3.6.2->starlette<0.47.0,>=0.40.0->fastapi) (1.3.1)\n"
     ]
    }
   ],
   "source": [
    "!pip install fastapi uvicorn nest_asyncio\n"
   ]
  },
  {
   "cell_type": "code",
   "execution_count": 2,
   "id": "c514d6a0-8793-4869-a107-522617596155",
   "metadata": {},
   "outputs": [],
   "source": [
    "from fastapi import FastAPI\n",
    "import nest_asyncio\n",
    "import uvicorn\n"
   ]
  },
  {
   "cell_type": "code",
   "execution_count": 3,
   "id": "4bd827cc-359e-4634-a84b-e24f4bd2aa61",
   "metadata": {},
   "outputs": [],
   "source": [
    "nest_asyncio.apply()\n"
   ]
  },
  {
   "cell_type": "code",
   "execution_count": 4,
   "id": "756e8819-fc01-41cd-be6a-9c44007b053c",
   "metadata": {},
   "outputs": [],
   "source": [
    "app = FastAPI()\n",
    "\n",
    "@app.get(\"/\")\n",
    "def read_root():\n",
    "    return {\"message\": \"Hello World\"}\n"
   ]
  },
  {
   "cell_type": "code",
   "execution_count": null,
   "id": "446099c6-6dd4-4fca-b6bd-7afdca886a3c",
   "metadata": {},
   "outputs": [
    {
     "name": "stderr",
     "output_type": "stream",
     "text": [
      "INFO:     Started server process [13432]\n",
      "INFO:     Waiting for application startup.\n",
      "INFO:     Application startup complete.\n",
      "INFO:     Uvicorn running on http://127.0.0.1:8000 (Press CTRL+C to quit)\n"
     ]
    },
    {
     "name": "stdout",
     "output_type": "stream",
     "text": [
      "INFO:     127.0.0.1:56373 - \"GET / HTTP/1.1\" 200 OK\n",
      "INFO:     127.0.0.1:56373 - \"GET /favicon.ico HTTP/1.1\" 404 Not Found\n"
     ]
    }
   ],
   "source": [
    "uvicorn.run(app, host=\"127.0.0.1\", port=8000)\n"
   ]
  },
  {
   "cell_type": "code",
   "execution_count": null,
   "id": "22f14cb0-6d5a-49aa-bd27-8759469d2a18",
   "metadata": {},
   "outputs": [],
   "source": []
  }
 ],
 "metadata": {
  "kernelspec": {
   "display_name": "Python 3 (ipykernel)",
   "language": "python",
   "name": "python3"
  },
  "language_info": {
   "codemirror_mode": {
    "name": "ipython",
    "version": 3
   },
   "file_extension": ".py",
   "mimetype": "text/x-python",
   "name": "python",
   "nbconvert_exporter": "python",
   "pygments_lexer": "ipython3",
   "version": "3.12.4"
  }
 },
 "nbformat": 4,
 "nbformat_minor": 5
}

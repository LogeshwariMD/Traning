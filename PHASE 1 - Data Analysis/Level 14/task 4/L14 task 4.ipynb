{
 "cells": [
  {
   "cell_type": "code",
   "execution_count": 1,
   "id": "09e7e436-d699-4dbb-bf2b-65bca2fd547f",
   "metadata": {},
   "outputs": [],
   "source": [
    "from selenium import webdriver\n",
    "from selenium.webdriver.chrome.service import Service\n",
    "from selenium.webdriver.common.by import By\n",
    "from selenium.webdriver.chrome.options import Options\n",
    "from webdriver_manager.chrome import ChromeDriverManager\n",
    "import pandas as pd\n",
    "import time\n"
   ]
  },
  {
   "cell_type": "code",
   "execution_count": 2,
   "id": "2cd033fb-9010-4185-8427-f761a99952f3",
   "metadata": {},
   "outputs": [],
   "source": [
    "options = Options()\n",
    "options.add_argument(\"--headless\")  # Run in headless mode\n",
    "driver = webdriver.Chrome(service=Service(ChromeDriverManager().install()), options=options)\n"
   ]
  },
  {
   "cell_type": "code",
   "execution_count": 3,
   "id": "1cf3e7ef-8f74-4eba-b716-81275c49835a",
   "metadata": {},
   "outputs": [],
   "source": [
    "url = \"https://www.cricbuzz.com/cricket-full-commentary/35612/mi-vs-rcb-1st-match-indian-premier-league-2021\"\n",
    "driver.get(url)\n",
    "time.sleep(3)\n"
   ]
  },
  {
   "cell_type": "code",
   "execution_count": 4,
   "id": "d04ddf3a-c364-4ad1-8c5f-d754d0847939",
   "metadata": {},
   "outputs": [],
   "source": [
    "match_id = \"35612\"\n",
    "year = \"2021\"\n",
    "series_type = \"T20\"\n",
    "series_name = \"Indian Premier League\"\n",
    "match_type = \"T20 IPL\"\n",
    "match_no = \"1st Match\""
   ]
  },
  {
   "cell_type": "code",
   "execution_count": 5,
   "id": "9953ac28-a431-4d76-8e52-78200fbca626",
   "metadata": {},
   "outputs": [
    {
     "name": "stdout",
     "output_type": "stream",
     "text": [
      "Info extraction error: Message: no such element: Unable to locate element: {\"method\":\"css selector\",\"selector\":\".cb-mat-mnu-it.cb-ovr-flo.cb-hmscg-tm-nm\"}\n",
      "  (Session info: chrome=135.0.7049.42); For documentation on this error, please visit: https://www.selenium.dev/documentation/webdriver/troubleshooting/errors#no-such-element-exception\n",
      "Stacktrace:\n",
      "\tGetHandleVerifier [0x00855413+60691]\n",
      "\tGetHandleVerifier [0x00855454+60756]\n",
      "\t(No symbol) [0x00680693]\n",
      "\t(No symbol) [0x006C8660]\n",
      "\t(No symbol) [0x006C89FB]\n",
      "\t(No symbol) [0x00710EE2]\n",
      "\t(No symbol) [0x006ED0A4]\n",
      "\t(No symbol) [0x0070E6FB]\n",
      "\t(No symbol) [0x006ECE56]\n",
      "\t(No symbol) [0x006BC5F3]\n",
      "\t(No symbol) [0x006BD444]\n",
      "\tGetHandleVerifier [0x00A9BBC3+2446531]\n",
      "\tGetHandleVerifier [0x00A97198+2427544]\n",
      "\tGetHandleVerifier [0x00AB2D5E+2541150]\n",
      "\tGetHandleVerifier [0x0086C3C5+154821]\n",
      "\tGetHandleVerifier [0x00872BED+181485]\n",
      "\tGetHandleVerifier [0x0085CC48+91464]\n",
      "\tGetHandleVerifier [0x0085CDF0+91888]\n",
      "\tGetHandleVerifier [0x00847980+4736]\n",
      "\tBaseThreadInitThunk [0x75E35D49+25]\n",
      "\tRtlInitializeExceptionChain [0x7736CE3B+107]\n",
      "\tRtlGetAppContainerNamedObjectPath [0x7736CDC1+561]\n",
      "\n"
     ]
    }
   ],
   "source": [
    "toss = \"\"\n",
    "winning_team = \"\"\n",
    "tie_breaker = \"\"\n",
    "\n",
    "try:\n",
    "    match_info = driver.find_element(By.CLASS_NAME, 'cb-mat-mnu-it.cb-ovr-flo.cb-hmscg-tm-nm')\n",
    "    info_texts = driver.find_elements(By.CSS_SELECTOR, \".cb-col.cb-col-100.cb-match-info-itm\")\n",
    "    for info in info_texts:\n",
    "        text = info.text\n",
    "        if 'toss' in text.lower():\n",
    "            toss = text\n",
    "        if 'won' in text.lower():\n",
    "            winning_team = text\n",
    "        if 'super over' in text.lower():\n",
    "            tie_breaker = text\n",
    "except Exception as e:\n",
    "    print(\"Info extraction error:\", e)\n",
    "\n",
    "# Expand all overs\n",
    "try:\n",
    "    while True:\n",
    "        load_more = driver.find_element(By.XPATH, '//span[text()=\"Load More Commentary\"]')\n",
    "        driver.execute_script(\"arguments[0].click();\", load_more)\n",
    "        time.sleep(2)\n",
    "except:\n",
    "    pass  # No more \"Load More\" button\n",
    "\n",
    "# Extract ball-by-ball commentary\n",
    "balls = driver.find_elements(By.CSS_SELECTOR, \"div.cb-col.cb-col-100.cb-com-ln\")\n",
    "data = []\n",
    "\n",
    "for idx, ball in enumerate(balls):\n",
    "    try:\n",
    "        over = ball.find_element(By.CLASS_NAME, 'cb-col.cb-col-8.cb-col').text.strip()\n",
    "        commentary = ball.find_element(By.CLASS_NAME, 'cb-col.cb-col-92.cb-com-ln').text.strip()\n",
    "        data.append({\n",
    "            \"year\": year,\n",
    "            \"series_type\": series_type,\n",
    "            \"series_name\": series_name,\n",
    "            \"match_no\": match_no,\n",
    "            \"match_type\": match_type,\n",
    "            \"match_id\": match_id,\n",
    "            \"match_winning_team\": winning_team,\n",
    "            \"match_tie_breaker\": tie_breaker,\n",
    "            \"match_toss\": toss,\n",
    "            \"ball_no\": f\"{match_id}_{idx+1}\",\n",
    "            \"over_no\": over,\n",
    "            \"ball_commentary\": commentary\n",
    "        })\n",
    "    except Exception as e:\n",
    "        print(\"Skipping a row:\", e)"
   ]
  },
  {
   "cell_type": "code",
   "execution_count": 6,
   "id": "fcb7265d-6794-47c0-86b1-a758ff0d7ac5",
   "metadata": {},
   "outputs": [
    {
     "name": "stdout",
     "output_type": "stream",
     "text": [
      "Empty DataFrame\n",
      "Columns: []\n",
      "Index: []\n"
     ]
    }
   ],
   "source": [
    "df = pd.DataFrame(data)\n",
    "print(df.head())"
   ]
  },
  {
   "cell_type": "code",
   "execution_count": 13,
   "id": "9d545e9a-26de-484b-9b44-9aa944c1d7bf",
   "metadata": {},
   "outputs": [],
   "source": [
    "from selenium import webdriver\n",
    "from selenium.webdriver.chrome.service import Service\n",
    "from selenium.webdriver.common.by import By\n",
    "from selenium.webdriver.chrome.options import Options\n",
    "from webdriver_manager.chrome import ChromeDriverManager\n",
    "import pandas as pd\n",
    "import time"
   ]
  },
  {
   "cell_type": "code",
   "execution_count": 14,
   "id": "c447b8fa-ce62-41b8-9c92-34a67613f88d",
   "metadata": {},
   "outputs": [],
   "source": [
    "options = Options()\n",
    "options.add_argument(\"--headless\")  # Run in headless mode\n",
    "driver = webdriver.Chrome(service=Service(ChromeDriverManager().install()), options=options)\n"
   ]
  },
  {
   "cell_type": "code",
   "execution_count": 21,
   "id": "3d0cdb71-da20-4c23-9fef-7641b298bc30",
   "metadata": {},
   "outputs": [
    {
     "name": "stdout",
     "output_type": "stream",
     "text": [
      "No full commentary button found.\n",
      "Empty DataFrame\n",
      "Columns: []\n",
      "Index: []\n"
     ]
    }
   ],
   "source": [
    "from selenium import webdriver\n",
    "from selenium.webdriver.chrome.service import Service\n",
    "from selenium.webdriver.common.by import By\n",
    "from selenium.webdriver.chrome.options import Options\n",
    "from webdriver_manager.chrome import ChromeDriverManager\n",
    "import pandas as pd\n",
    "import time\n",
    "\n",
    "# Setup Chrome browser\n",
    "options = Options()\n",
    "options.add_argument(\"--start-maximized\")\n",
    "driver = webdriver.Chrome(service=Service(ChromeDriverManager().install()), options=options)\n",
    "\n",
    "# Load the commentary page\n",
    "url = \"https://www.cricbuzz.com/cricket-full-commentary/35612/mi-vs-rcb-1st-match-indian-premier-league-2021\"\n",
    "driver.get(url)\n",
    "time.sleep(3)\n",
    "\n",
    "# Click on “Show Full Commentary” button if it appears\n",
    "try:\n",
    "    full_btn = driver.find_element(By.XPATH, '//a[text()=\"Show Full Commentary\"]')\n",
    "    full_btn.click()\n",
    "    time.sleep(3)\n",
    "except:\n",
    "    print(\"No full commentary button found.\")\n",
    "\n",
    "    pass\n",
    "\n",
    "# Scroll to bottom (optional, depending on visibility)\n",
    "driver.execute_script(\"window.scrollTo(0, document.body.scrollHeight);\")\n",
    "time.sleep(3)\n",
    "\n",
    "# Extract general match info\n",
    "year = \"2021\"\n",
    "series_type = \"T20\"\n",
    "series_name = \"Indian Premier League\"\n",
    "match_no = \"1st Match\"\n",
    "match_type = \"T20 IPL\"\n",
    "match_id = \"35612\"\n",
    "\n",
    "try:\n",
    "    match_winning_team = driver.find_element(By.CLASS_NAME, 'cb-mtch-crd-hdr').text\n",
    "except:\n",
    "    match_winning_team = \"\"\n",
    "\n",
    "try:\n",
    "    match_toss = driver.find_element(By.XPATH, '//div[contains(text(),\"toss\")]/following-sibling::div').text\n",
    "except:\n",
    "    match_toss = \"\"\n",
    "\n",
    "# Extract ball-by-ball commentary\n",
    "commentary_blocks = driver.find_elements(By.XPATH, '//div[contains(@class,\"cb-com-ln\")]')\n",
    "\n",
    "\n",
    "data = []\n",
    "ball_no = 1\n",
    "\n",
    "for block in commentary_blocks:\n",
    "    try:\n",
    "        over = block.find_element(By.CSS_SELECTOR, 'div.cb-col.cb-col-8.cb-com-time').text.strip()\n",
    "        text = block.find_element(By.CSS_SELECTOR, 'div.cb-col.cb-col-92.cb-com-ln').text.strip()\n",
    "\n",
    "        if over:\n",
    "            data.append({\n",
    "                'year': year,\n",
    "                'series_type': series_type,\n",
    "                'series_name': series_name,\n",
    "                'match_no': match_no,\n",
    "                'match_type': match_type,\n",
    "                'match_id': match_id,\n",
    "                'match_winning_team': match_winning_team,\n",
    "                'match_tie_breaker': \"\",  # Not applicable in this match\n",
    "                'match_toss': match_toss,\n",
    "                'ball_no': ball_no,\n",
    "                'over_no': over,\n",
    "                'ball_commentary': text\n",
    "            })\n",
    "            ball_no += 1\n",
    "    except:\n",
    "        continue\n",
    "\n",
    "# Create DataFrame\n",
    "df = pd.DataFrame(data)\n",
    "#df.to_csv(\"ipl_2021_match1_commentary.csv\", index=False)\n",
    "driver.quit()\n",
    "\n",
    "print(df.head())\n",
    "\n"
   ]
  },
  {
   "cell_type": "code",
   "execution_count": 17,
   "id": "2b3d1ed3-350c-404c-8604-aa9d6e007ae3",
   "metadata": {},
   "outputs": [],
   "source": [
    "\n"
   ]
  },
  {
   "cell_type": "code",
   "execution_count": 16,
   "id": "8e6decab-a34b-4162-a704-1d063f22bc95",
   "metadata": {},
   "outputs": [],
   "source": []
  },
  {
   "cell_type": "code",
   "execution_count": null,
   "id": "1f2650c1-1011-4727-9321-c6433f8b11b8",
   "metadata": {},
   "outputs": [],
   "source": []
  }
 ],
 "metadata": {
  "kernelspec": {
   "display_name": "Python 3 (ipykernel)",
   "language": "python",
   "name": "python3"
  },
  "language_info": {
   "codemirror_mode": {
    "name": "ipython",
    "version": 3
   },
   "file_extension": ".py",
   "mimetype": "text/x-python",
   "name": "python",
   "nbconvert_exporter": "python",
   "pygments_lexer": "ipython3",
   "version": "3.12.4"
  }
 },
 "nbformat": 4,
 "nbformat_minor": 5
}

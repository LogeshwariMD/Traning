{
 "cells": [
  {
   "cell_type": "code",
   "execution_count": 23,
   "id": "16e68342-24f2-4982-bd30-f58fb7ddb647",
   "metadata": {},
   "outputs": [],
   "source": [
    "import pandas as pd\n",
    "import time\n",
    "from selenium import webdriver\n",
    "from selenium.webdriver.chrome.options import Options\n",
    "from selenium.webdriver.chrome.service import Service\n",
    "from bs4 import BeautifulSoup\n",
    "\n",
    "\n",
    "\n",
    "\n",
    "\n",
    "\n"
   ]
  },
  {
   "cell_type": "code",
   "execution_count": null,
   "id": "3cbfbb39-8b38-48b6-8c7e-2550644ac1a4",
   "metadata": {},
   "outputs": [],
   "source": [
    "chrome_driver_path = r\"C:\\Users\\loges\\Downloads\\chromedriver-win64\\chromedriver-win64\\chromedriver.exe\"\n",
    "\n",
    "\n",
    "options = Options()\n",
    "options.add_argument(\"--headless\")\n",
    "service = Service(chrome_driver_path)\n",
    "driver = webdriver.Chrome(service=service, options=options)"
   ]
  },
  {
   "cell_type": "code",
   "execution_count": null,
   "id": "e9b8b3d0-90da-4803-b730-a3ddcd1f559a",
   "metadata": {},
   "outputs": [],
   "source": [
    "url = \"https://www.cricbuzz.com/cricket-full-commentary/35612/mi-vs-rcb-1st-match-indian-premier-league-2021\"\n",
    "driver.get(url)\n",
    "time.sleep(3)\n",
    "soup = BeautifulSoup(driver.page_source, 'html.parser')\n",
    "driver.quit()\n",
    "\n",
    "\n",
    "overs = soup.select(\"div.cb-col.cb-col-8.text-bold.cb-com-ln\")\n",
    "comments = soup.select(\"div.cb-col.cb-col-100.cb-com-ln\")\n",
    "\n",
    "over_data = []\n",
    "for over, comment in zip(overs, comments):\n",
    "    over_num = over.get_text(strip=True)\n",
    "    comment_text = comment.get_text(strip=True)\n",
    "    \n",
    "    over_data.append({\n",
    "        \"over\": over_num,\n",
    "        \"comment\": comment_text\n",
    "    })\n",
    "\n",
    "\n"
   ]
  },
  {
   "cell_type": "code",
   "execution_count": 24,
   "id": "fe122361-50b9-496f-b16e-dc4f4dce9e18",
   "metadata": {},
   "outputs": [
    {
     "name": "stdout",
     "output_type": "stream",
     "text": [
      "Scraped and saved two datasets!\n"
     ]
    }
   ],
   "source": [
    "df_commentary = pd.DataFrame(over_data[:30])  \n",
    "df_overinfo = pd.DataFrame(over_data[30:60])  \n",
    "\n",
    "df_commentary.to_csv(\"commentary_data.csv\", index=False)\n",
    "df_overinfo.to_csv(\"over_data.csv\", index=False)\n",
    "\n",
    "print(\"Scraped and saved two datasets!\")"
   ]
  },
  {
   "cell_type": "code",
   "execution_count": 25,
   "id": "b5f73b02-8021-485f-ad38-421bdea47985",
   "metadata": {},
   "outputs": [],
   "source": [
    "from pyspark.sql import SparkSession\n",
    "\n",
    "spark = SparkSession.builder \\\n",
    "    .appName(\"UnionExample\") \\\n",
    "    .master(\"local[*]\") \\\n",
    "    .getOrCreate()\n",
    "\n",
    "\n"
   ]
  },
  {
   "cell_type": "code",
   "execution_count": 27,
   "id": "43608497-9a30-4089-9685-1ee4184f854f",
   "metadata": {},
   "outputs": [],
   "source": [
    "df_commentary = spark.read.option(\"header\", True).csv(\"commentary_data.csv\")\n",
    "df_overinfo = spark.read.option(\"header\", True).csv(\"over_data.csv\")\n",
    "\n",
    "\n"
   ]
  },
  {
   "cell_type": "code",
   "execution_count": 28,
   "id": "89060329-ad0e-4b5d-b945-1272c72363f8",
   "metadata": {},
   "outputs": [
    {
     "name": "stdout",
     "output_type": "stream",
     "text": [
      "Commentary Data:\n",
      "++\n",
      "||\n",
      "++\n",
      "++\n",
      "\n"
     ]
    }
   ],
   "source": [
    "print(\"Commentary Data:\")\n",
    "df_commentary.show(5)\n"
   ]
  },
  {
   "cell_type": "code",
   "execution_count": 29,
   "id": "bedc88aa-9e7b-43a1-8b26-e505d2c195ef",
   "metadata": {},
   "outputs": [
    {
     "name": "stdout",
     "output_type": "stream",
     "text": [
      "Over Info Data:\n",
      "++\n",
      "||\n",
      "++\n",
      "++\n",
      "\n"
     ]
    }
   ],
   "source": [
    "print(\"Over Info Data:\")\n",
    "df_overinfo.show(5)\n"
   ]
  },
  {
   "cell_type": "code",
   "execution_count": 30,
   "id": "3281285e-84fa-47de-8030-3e4d01ca562a",
   "metadata": {},
   "outputs": [
    {
     "name": "stdout",
     "output_type": "stream",
     "text": [
      "Combined using union():\n",
      "++\n",
      "||\n",
      "++\n",
      "++\n",
      "\n"
     ]
    }
   ],
   "source": [
    "union_df = df_commentary.union(df_overinfo)\n",
    "print(\"Combined using union():\")\n",
    "union_df.show(5)"
   ]
  },
  {
   "cell_type": "code",
   "execution_count": 33,
   "id": "21ff8387-9ff9-48d5-9adc-0821bc3e2e91",
   "metadata": {},
   "outputs": [],
   "source": [
    "\n",
    "from pyspark.sql.functions import col, lit\n",
    "\n",
    "\n",
    "df_overinfo_extra = df_overinfo.withColumn(\"source\", lit(\"over_data\"))\n",
    "df_commentary_extra = df_commentary.withColumn(\"source\", lit(\"commentary\"))\n",
    "\n",
    "\n"
   ]
  },
  {
   "cell_type": "code",
   "execution_count": 35,
   "id": "7c787b67-94fa-4ba0-b3e5-8dd335860e37",
   "metadata": {},
   "outputs": [],
   "source": [
    "union_by_name_df = df_commentary_extra.unionByName(df_overinfo_extra)\n"
   ]
  },
  {
   "cell_type": "code",
   "execution_count": 37,
   "id": "e54a9d25-60f4-46bf-b780-4629cc9fd683",
   "metadata": {},
   "outputs": [
    {
     "name": "stdout",
     "output_type": "stream",
     "text": [
      "Combined using unionByName():\n",
      "+------+\n",
      "|source|\n",
      "+------+\n",
      "+------+\n",
      "\n"
     ]
    }
   ],
   "source": [
    "print(\"Combined using unionByName():\")\n",
    "union_by_name_df.show(5)\n",
    "\n"
   ]
  },
  {
   "cell_type": "code",
   "execution_count": null,
   "id": "1837bc4a-2d86-48e1-a335-4a2c16e95993",
   "metadata": {},
   "outputs": [],
   "source": []
  }
 ],
 "metadata": {
  "kernelspec": {
   "display_name": "Python 3 (ipykernel)",
   "language": "python",
   "name": "python3"
  },
  "language_info": {
   "codemirror_mode": {
    "name": "ipython",
    "version": 3
   },
   "file_extension": ".py",
   "mimetype": "text/x-python",
   "name": "python",
   "nbconvert_exporter": "python",
   "pygments_lexer": "ipython3",
   "version": "3.12.4"
  }
 },
 "nbformat": 4,
 "nbformat_minor": 5
}
